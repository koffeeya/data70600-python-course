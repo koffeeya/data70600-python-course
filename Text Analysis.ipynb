{
 "cells": [
  {
   "cell_type": "markdown",
   "id": "b16aede4",
   "metadata": {},
   "source": [
    "# Text Analysis Assignment\n",
    "### Kavya Beheraj"
   ]
  },
  {
   "cell_type": "code",
   "execution_count": 15,
   "id": "ec3ececf",
   "metadata": {},
   "outputs": [
    {
     "name": "stderr",
     "output_type": "stream",
     "text": [
      "[nltk_data] Downloading package stopwords to\n",
      "[nltk_data]     C:\\Users\\Kavya\\AppData\\Roaming\\nltk_data...\n",
      "[nltk_data]   Package stopwords is already up-to-date!\n",
      "[nltk_data] Downloading package punkt to\n",
      "[nltk_data]     C:\\Users\\Kavya\\AppData\\Roaming\\nltk_data...\n",
      "[nltk_data]   Package punkt is already up-to-date!\n"
     ]
    },
    {
     "data": {
      "text/plain": [
       "True"
      ]
     },
     "execution_count": 15,
     "metadata": {},
     "output_type": "execute_result"
    }
   ],
   "source": [
    "# Imports\n",
    "import nltk\n",
    "import pandas as pd\n",
    "import matplotlib\n",
    "import re\n",
    "%matplotlib inline\n",
    "\n",
    "# Downloads\n",
    "from nltk.corpus import stopwords\n",
    "from nltk import FreqDist\n",
    "from urllib.request import urlopen\n",
    "nltk.download('stopwords')\n",
    "nltk.download('punkt')"
   ]
  },
  {
   "cell_type": "code",
   "execution_count": 32,
   "id": "f6285365",
   "metadata": {},
   "outputs": [],
   "source": [
    "# Remove non-alphabetical characters in a single word\n",
    "def clean_word(word):\n",
    "    word = re.sub('[^A-Za-z]+', '', word).lower()\n",
    "    return word\n",
    "\n",
    "# Apply the clean_word function to a corpus, and filter out any '' (empty) values\n",
    "def clean_text(paragraph):\n",
    "    cleaned = [clean_word(word) for word in paragraph]\n",
    "    filtered = list(filter(None, cleaned))\n",
    "    return filtered\n",
    "\n",
    "# Import a .txt file from a given URL\n",
    "def import_text_file(url):\n",
    "    file = urlopen(url)\n",
    "    raw_bytes = file.read()\n",
    "    raw_text = raw_bytes.decode()\n",
    "    return raw_text"
   ]
  },
  {
   "cell_type": "code",
   "execution_count": 17,
   "id": "0a8e6b88",
   "metadata": {},
   "outputs": [],
   "source": [
    "stops = stopwords.words('english')"
   ]
  },
  {
   "cell_type": "code",
   "execution_count": 36,
   "id": "16c782cd",
   "metadata": {},
   "outputs": [
    {
     "data": {
      "text/plain": [
       "\"Abhramu The original female elephant could change shape at will. But Abhramu's tribe lost \""
      ]
     },
     "execution_count": 36,
     "metadata": {},
     "output_type": "execute_result"
    }
   ],
   "source": [
    "my_url = \"https://raw.githubusercontent.com/koffeeya/data70600-python-course/master/india.txt\"\n",
    "raw_text = import_text_file(my_url)\n",
    "raw_text[0:90]"
   ]
  },
  {
   "cell_type": "code",
   "execution_count": 71,
   "id": "11f3e646",
   "metadata": {},
   "outputs": [],
   "source": [
    "tokenized_text = nltk.word_tokenize(raw_text)\n",
    "cleaned = clean_text(tokenized_text)\n",
    "nltk_text = nltk.Text(cleaned)"
   ]
  },
  {
   "cell_type": "code",
   "execution_count": 72,
   "id": "ce4ee9d9",
   "metadata": {},
   "outputs": [
    {
     "data": {
      "image/png": "[encoded data removed]",
      "text/plain": [
       "<Figure size 432x288 with 1 Axes>"
      ]
     },
     "metadata": {
      "needs_background": "light"
     },
     "output_type": "display_data"
    }
   ],
   "source": [
    "nltk_text.dispersion_plot([\"warrior\", \"mother\", \"wife\"])"
   ]
  },
  {
   "cell_type": "code",
   "execution_count": null,
   "id": "d9962038",
   "metadata": {},
   "outputs": [],
   "source": []
  }
 ],
 "metadata": {
  "kernelspec": {
   "display_name": "Python 3",
   "language": "python",
   "name": "python3"
  },
  "language_info": {
   "codemirror_mode": {
    "name": "ipython",
    "version": 3
   },
   "file_extension": ".py",
   "mimetype": "text/x-python",
   "name": "python",
   "nbconvert_exporter": "python",
   "pygments_lexer": "ipython3",
   "version": "3.8.8"
  }
 },
 "nbformat": 4,
 "nbformat_minor": 5
}
